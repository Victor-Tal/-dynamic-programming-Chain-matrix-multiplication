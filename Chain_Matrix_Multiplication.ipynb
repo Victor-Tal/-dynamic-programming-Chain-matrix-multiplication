{
  "nbformat": 4,
  "nbformat_minor": 0,
  "metadata": {
    "colab": {
      "provenance": [],
      "authorship_tag": "ABX9TyMQI3vzMl7ddrqmMc05YbIq",
      "include_colab_link": true
    },
    "kernelspec": {
      "name": "python3",
      "display_name": "Python 3"
    },
    "language_info": {
      "name": "python"
    }
  },
  "cells": [
    {
      "cell_type": "markdown",
      "metadata": {
        "id": "view-in-github",
        "colab_type": "text"
      },
      "source": [
        "<a href=\"https://colab.research.google.com/github/Victor-Tal/-dynamic-programming-Chain-matrix-multiplication/blob/main/Chain_Matrix_Multiplication.ipynb\" target=\"_parent\"><img src=\"https://colab.research.google.com/assets/colab-badge.svg\" alt=\"Open In Colab\"/></a>"
      ]
    },
    {
      "cell_type": "markdown",
      "source": [
        "<h1> Cordero Correa Victor Hugo :)\n",
        "<h4> Programación Dinámica y Algoritmos Voraces\n",
        "<hr>\n",
        "\n",
        "\n",
        "<h4> Multiplicación de matrices en cadena"
      ],
      "metadata": {
        "id": "TPI_xyhu0_KX"
      }
    },
    {
      "cell_type": "code",
      "execution_count": 1,
      "metadata": {
        "id": "Go03669L05TV"
      },
      "outputs": [],
      "source": [
        "inf = float('inf')\n",
        "iinf = -9999999999999999999999999999999999999\n",
        "def maChain(p):\n",
        "  '''Matrix-Chain-Order dada una lista de enteros correspondientes a las dimensiones de los pares de matrices, forma una cadena.'''\n",
        "  n = len(p) # \n",
        "  s = {}     #inicializa dos arreglos vacios\n",
        "  m = {}\n",
        "  \n",
        "  for i in range(1, n): \n",
        "      m[tuple([i, i])] = 0 #No hay operaciones por ser si misma\n",
        "  for l in range(2, n): #Inicia en 2 para no gastar operaciones \n",
        "      for i in range(1, n - l + 1): \n",
        "          j = i + l - 1 \n",
        "          m[tuple([i, j])] = inf #Se iguala a infinito\n",
        "          for k in range(i, j):\n",
        "              q = m[tuple([i, k])] + m[tuple([k + 1, j])] + (p[i-1] * p[k] * p[j]) # Costo de multiplicacion\n",
        "              if q < m[tuple([i, j])]:\n",
        "                  m[tuple([i, j])] = q #se agrega la suma \n",
        "                  s[tuple([i, j])] = k #se agrega el indice\n",
        "  return m,s\n",
        "\n",
        "\n",
        "def print_optimal_parens(s, i, j): #imprime en parentesis, la mejor combinacion\n",
        "  if i == j:\n",
        "    print(\"A_{}\".format(i), end='') #imprime la matrz y como sub indice su posicion\n",
        "  else:\n",
        "    print('(', end='')\n",
        "    print_optimal_parens(s, i, s[tuple([i, j])])\n",
        "    print_optimal_parens(s, s[tuple([i, j])] + 1, j)\n",
        "    print(')', end='')\n"
      ]
    },
    {
      "cell_type": "code",
      "source": [
        "# input is 30x35 matrix 35x15 matrix 15x5 matrix 5x10 matrix 10x20 matrix 20x25 matrix\n",
        "array =[30, 35, 15, 5, 10, 20, 25]\n",
        "\n",
        "M, S = maChain(array)\n",
        "print_optimal_parens(S,1,6)\n",
        "print('\\n')\n",
        "\n",
        "\n",
        "print(\"\\t ejercicio  15.2 -1 \\n\\n\")\n",
        "p15_2_1 = [5, 10, 3, 12, 5, 50 , 6]\n",
        "\n",
        "\n",
        "M, S = maChain(p15_2_1)\n",
        "print_optimal_parens(S,1,6)\n"
      ],
      "metadata": {
        "colab": {
          "base_uri": "https://localhost:8080/"
        },
        "id": "xQ6pjgs61KPW",
        "outputId": "3946dd6b-b24d-494e-8829-1b091dee9193"
      },
      "execution_count": 2,
      "outputs": [
        {
          "output_type": "stream",
          "name": "stdout",
          "text": [
            "((A_1(A_2A_3))((A_4A_5)A_6))\n",
            "\n",
            "\t ejercicio  15.2 -1 \n",
            "\n",
            "\n",
            "((A_1A_2)((A_3A_4)(A_5A_6)))"
          ]
        }
      ]
    },
    {
      "cell_type": "code",
      "source": [],
      "metadata": {
        "id": "7DzN69CU1SSm"
      },
      "execution_count": null,
      "outputs": []
    }
  ]
}